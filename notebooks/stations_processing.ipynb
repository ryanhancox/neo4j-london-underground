{
 "cells": [
  {
   "cell_type": "markdown",
   "metadata": {},
   "source": [
    "# Station Data Processing\n",
    "The purpose of this notebook is to clean the Station data set ready for use in the Neo4j database and to ensure it aligns with the data in the Connections dataset."
   ]
  },
  {
   "cell_type": "code",
   "execution_count": 11,
   "metadata": {},
   "outputs": [],
   "source": [
    "import pandas as pd\n",
    "import numpy as np\n",
    "from common_processing import clean_station"
   ]
  },
  {
   "cell_type": "code",
   "execution_count": 12,
   "metadata": {},
   "outputs": [
    {
     "data": {
      "text/html": [
       "<div>\n",
       "<style scoped>\n",
       "    .dataframe tbody tr th:only-of-type {\n",
       "        vertical-align: middle;\n",
       "    }\n",
       "\n",
       "    .dataframe tbody tr th {\n",
       "        vertical-align: top;\n",
       "    }\n",
       "\n",
       "    .dataframe thead th {\n",
       "        text-align: right;\n",
       "    }\n",
       "</style>\n",
       "<table border=\"1\" class=\"dataframe\">\n",
       "  <thead>\n",
       "    <tr style=\"text-align: right;\">\n",
       "      <th></th>\n",
       "      <th>Station</th>\n",
       "      <th>OS X</th>\n",
       "      <th>OS Y</th>\n",
       "      <th>Latitude</th>\n",
       "      <th>Longitude</th>\n",
       "      <th>Zone</th>\n",
       "      <th>Postcode</th>\n",
       "    </tr>\n",
       "  </thead>\n",
       "  <tbody>\n",
       "    <tr>\n",
       "      <th>0</th>\n",
       "      <td>Abbey Road</td>\n",
       "      <td>539081</td>\n",
       "      <td>183352</td>\n",
       "      <td>51.531952</td>\n",
       "      <td>0.003723</td>\n",
       "      <td>3</td>\n",
       "      <td>E15 3NB</td>\n",
       "    </tr>\n",
       "    <tr>\n",
       "      <th>1</th>\n",
       "      <td>Abbey Wood</td>\n",
       "      <td>547297</td>\n",
       "      <td>179002</td>\n",
       "      <td>51.490784</td>\n",
       "      <td>0.120272</td>\n",
       "      <td>4</td>\n",
       "      <td>SE2 9RH</td>\n",
       "    </tr>\n",
       "    <tr>\n",
       "      <th>2</th>\n",
       "      <td>Acton Central</td>\n",
       "      <td>520613</td>\n",
       "      <td>180299</td>\n",
       "      <td>51.508757</td>\n",
       "      <td>-0.263430</td>\n",
       "      <td>2</td>\n",
       "      <td>W3 6BH</td>\n",
       "    </tr>\n",
       "    <tr>\n",
       "      <th>3</th>\n",
       "      <td>Acton Main Line</td>\n",
       "      <td>520296</td>\n",
       "      <td>181196</td>\n",
       "      <td>51.516886</td>\n",
       "      <td>-0.267690</td>\n",
       "      <td>3</td>\n",
       "      <td>W3 9EH</td>\n",
       "    </tr>\n",
       "    <tr>\n",
       "      <th>4</th>\n",
       "      <td>Acton Town</td>\n",
       "      <td>519457</td>\n",
       "      <td>179639</td>\n",
       "      <td>51.503071</td>\n",
       "      <td>-0.280303</td>\n",
       "      <td>3</td>\n",
       "      <td>W3 8HN</td>\n",
       "    </tr>\n",
       "    <tr>\n",
       "      <th>5</th>\n",
       "      <td>Addington Village</td>\n",
       "      <td>537082</td>\n",
       "      <td>163744</td>\n",
       "      <td>51.356239</td>\n",
       "      <td>-0.032665</td>\n",
       "      <td>3,4,5,6</td>\n",
       "      <td>CR0 5AR</td>\n",
       "    </tr>\n",
       "    <tr>\n",
       "      <th>6</th>\n",
       "      <td>Addiscombe</td>\n",
       "      <td>534190</td>\n",
       "      <td>166290</td>\n",
       "      <td>51.379808</td>\n",
       "      <td>-0.073213</td>\n",
       "      <td>3,4,5,6</td>\n",
       "      <td>CR0 7AA</td>\n",
       "    </tr>\n",
       "    <tr>\n",
       "      <th>7</th>\n",
       "      <td>Albany Park</td>\n",
       "      <td>547903</td>\n",
       "      <td>172902</td>\n",
       "      <td>51.435816</td>\n",
       "      <td>0.126445</td>\n",
       "      <td>5</td>\n",
       "      <td>DA5 3HP</td>\n",
       "    </tr>\n",
       "    <tr>\n",
       "      <th>8</th>\n",
       "      <td>Aldgate</td>\n",
       "      <td>533629</td>\n",
       "      <td>181246</td>\n",
       "      <td>51.514342</td>\n",
       "      <td>-0.075627</td>\n",
       "      <td>1</td>\n",
       "      <td>EC3N 1AH</td>\n",
       "    </tr>\n",
       "    <tr>\n",
       "      <th>9</th>\n",
       "      <td>Aldgate East</td>\n",
       "      <td>533809</td>\n",
       "      <td>181333</td>\n",
       "      <td>51.515082</td>\n",
       "      <td>-0.073001</td>\n",
       "      <td>1</td>\n",
       "      <td>E1 7PT</td>\n",
       "    </tr>\n",
       "  </tbody>\n",
       "</table>\n",
       "</div>"
      ],
      "text/plain": [
       "             Station    OS X    OS Y   Latitude  Longitude     Zone  Postcode\n",
       "0         Abbey Road  539081  183352  51.531952   0.003723        3   E15 3NB\n",
       "1         Abbey Wood  547297  179002  51.490784   0.120272        4   SE2 9RH\n",
       "2      Acton Central  520613  180299  51.508757  -0.263430        2    W3 6BH\n",
       "3    Acton Main Line  520296  181196  51.516886  -0.267690        3    W3 9EH\n",
       "4         Acton Town  519457  179639  51.503071  -0.280303        3    W3 8HN\n",
       "5  Addington Village  537082  163744  51.356239  -0.032665  3,4,5,6   CR0 5AR\n",
       "6         Addiscombe  534190  166290  51.379808  -0.073213  3,4,5,6   CR0 7AA\n",
       "7        Albany Park  547903  172902  51.435816   0.126445        5   DA5 3HP\n",
       "8            Aldgate  533629  181246  51.514342  -0.075627        1  EC3N 1AH\n",
       "9       Aldgate East  533809  181333  51.515082  -0.073001        1    E1 7PT"
      ]
     },
     "execution_count": 12,
     "metadata": {},
     "output_type": "execute_result"
    }
   ],
   "source": [
    "df_raw = pd.read_csv(r\"../data/raw/station_data_raw.csv\")\n",
    "df_raw.head(10)"
   ]
  },
  {
   "cell_type": "code",
   "execution_count": 13,
   "metadata": {},
   "outputs": [],
   "source": [
    "# Drop duplicate stations (duplicates are on name not line)\n",
    "stations_to_drop = {\n",
    "    \"Edgware Road (Bakerloo)\",\n",
    "    \"Hammersmith (Met)\"\n",
    "}\n",
    "\n",
    "mask = ~(df_raw[\"Station\"].isin(stations_to_drop))\n",
    "df_stations = df_raw[mask]\n",
    "\n",
    "# Common station processing\n",
    "df_stations.loc[:, \"Station\"] = df_stations[\"Station\"].apply(clean_station)\n",
    "\n",
    "# Additional Processing\n",
    "df_stations.loc[519, \"Station\"] = \"St James Park\"\n",
    "\n",
    "# Saving the above for review\n",
    "df_stations.to_csv(r\"../data/raw/station_data_raw_v2.csv\")"
   ]
  },
  {
   "cell_type": "code",
   "execution_count": 14,
   "metadata": {},
   "outputs": [],
   "source": [
    "# At this point we now need to remove any stations that aren't present in the Connections\n",
    "# dataset\n",
    "df_connections = pd.read_csv(r\"../data/processed/connections_clean.csv\")\n",
    "connection_stations = set(df_connections[\"Station from (A)\"]).union(set(df_connections[\"Station to (B)\"]))"
   ]
  },
  {
   "cell_type": "code",
   "execution_count": 15,
   "metadata": {},
   "outputs": [
    {
     "data": {
      "text/plain": [
       "265"
      ]
     },
     "execution_count": 15,
     "metadata": {},
     "output_type": "execute_result"
    }
   ],
   "source": [
    "len(connection_stations)"
   ]
  },
  {
   "cell_type": "code",
   "execution_count": 16,
   "metadata": {},
   "outputs": [],
   "source": [
    "mask = df_stations['Station'].isin(connection_stations)\n",
    "df_valid_stations = df_stations[mask].reset_index(drop=True)"
   ]
  },
  {
   "cell_type": "code",
   "execution_count": 17,
   "metadata": {},
   "outputs": [],
   "source": [
    "# There's only a few more minor changes to make at this point so I am going to save\n",
    "# the file and do these manually\n",
    "df_valid_stations.to_csv(r\"../data/processed/stations_clean.csv\")"
   ]
  },
  {
   "cell_type": "code",
   "execution_count": 18,
   "metadata": {},
   "outputs": [
    {
     "data": {
      "text/plain": [
       "set()"
      ]
     },
     "execution_count": 18,
     "metadata": {},
     "output_type": "execute_result"
    }
   ],
   "source": [
    "# Checking which stations are in Connections but not the cleaned\n",
    "connection_stations.difference(df_valid_stations[\"Station\"])"
   ]
  }
 ],
 "metadata": {
  "kernelspec": {
   "display_name": "neo4j_LU_env",
   "language": "python",
   "name": "python3"
  },
  "language_info": {
   "codemirror_mode": {
    "name": "ipython",
    "version": 3
   },
   "file_extension": ".py",
   "mimetype": "text/x-python",
   "name": "python",
   "nbconvert_exporter": "python",
   "pygments_lexer": "ipython3",
   "version": "3.11.8"
  }
 },
 "nbformat": 4,
 "nbformat_minor": 2
}
