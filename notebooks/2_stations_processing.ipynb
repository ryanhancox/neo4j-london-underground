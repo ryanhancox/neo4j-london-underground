{
 "cells": [
  {
   "cell_type": "markdown",
   "metadata": {},
   "source": [
    "# Station Data Processing\n",
    "The purpose of this notebook is to clean the Station data set ready for use in the Neo4j database and to ensure it aligns with the data in the Connections dataset."
   ]
  },
  {
   "cell_type": "code",
   "execution_count": 13,
   "metadata": {},
   "outputs": [],
   "source": [
    "import pandas as pd\n",
    "from common_processing import clean_station"
   ]
  },
  {
   "cell_type": "code",
   "execution_count": 14,
   "metadata": {},
   "outputs": [
    {
     "data": {
      "text/html": [
       "<div>\n",
       "<style scoped>\n",
       "    .dataframe tbody tr th:only-of-type {\n",
       "        vertical-align: middle;\n",
       "    }\n",
       "\n",
       "    .dataframe tbody tr th {\n",
       "        vertical-align: top;\n",
       "    }\n",
       "\n",
       "    .dataframe thead th {\n",
       "        text-align: right;\n",
       "    }\n",
       "</style>\n",
       "<table border=\"1\" class=\"dataframe\">\n",
       "  <thead>\n",
       "    <tr style=\"text-align: right;\">\n",
       "      <th></th>\n",
       "      <th>Station</th>\n",
       "      <th>OS X</th>\n",
       "      <th>OS Y</th>\n",
       "      <th>Latitude</th>\n",
       "      <th>Longitude</th>\n",
       "      <th>Zone</th>\n",
       "      <th>Postcode</th>\n",
       "    </tr>\n",
       "  </thead>\n",
       "  <tbody>\n",
       "    <tr>\n",
       "      <th>0</th>\n",
       "      <td>Abbey Road</td>\n",
       "      <td>539081</td>\n",
       "      <td>183352</td>\n",
       "      <td>51.531952</td>\n",
       "      <td>0.003723</td>\n",
       "      <td>3</td>\n",
       "      <td>E15 3NB</td>\n",
       "    </tr>\n",
       "    <tr>\n",
       "      <th>1</th>\n",
       "      <td>Abbey Wood</td>\n",
       "      <td>547297</td>\n",
       "      <td>179002</td>\n",
       "      <td>51.490784</td>\n",
       "      <td>0.120272</td>\n",
       "      <td>4</td>\n",
       "      <td>SE2 9RH</td>\n",
       "    </tr>\n",
       "    <tr>\n",
       "      <th>2</th>\n",
       "      <td>Acton Central</td>\n",
       "      <td>520613</td>\n",
       "      <td>180299</td>\n",
       "      <td>51.508757</td>\n",
       "      <td>-0.263430</td>\n",
       "      <td>2</td>\n",
       "      <td>W3 6BH</td>\n",
       "    </tr>\n",
       "    <tr>\n",
       "      <th>3</th>\n",
       "      <td>Acton Main Line</td>\n",
       "      <td>520296</td>\n",
       "      <td>181196</td>\n",
       "      <td>51.516886</td>\n",
       "      <td>-0.267690</td>\n",
       "      <td>3</td>\n",
       "      <td>W3 9EH</td>\n",
       "    </tr>\n",
       "    <tr>\n",
       "      <th>4</th>\n",
       "      <td>Acton Town</td>\n",
       "      <td>519457</td>\n",
       "      <td>179639</td>\n",
       "      <td>51.503071</td>\n",
       "      <td>-0.280303</td>\n",
       "      <td>3</td>\n",
       "      <td>W3 8HN</td>\n",
       "    </tr>\n",
       "    <tr>\n",
       "      <th>5</th>\n",
       "      <td>Addington Village</td>\n",
       "      <td>537082</td>\n",
       "      <td>163744</td>\n",
       "      <td>51.356239</td>\n",
       "      <td>-0.032665</td>\n",
       "      <td>3,4,5,6</td>\n",
       "      <td>CR0 5AR</td>\n",
       "    </tr>\n",
       "    <tr>\n",
       "      <th>6</th>\n",
       "      <td>Addiscombe</td>\n",
       "      <td>534190</td>\n",
       "      <td>166290</td>\n",
       "      <td>51.379808</td>\n",
       "      <td>-0.073213</td>\n",
       "      <td>3,4,5,6</td>\n",
       "      <td>CR0 7AA</td>\n",
       "    </tr>\n",
       "    <tr>\n",
       "      <th>7</th>\n",
       "      <td>Albany Park</td>\n",
       "      <td>547903</td>\n",
       "      <td>172902</td>\n",
       "      <td>51.435816</td>\n",
       "      <td>0.126445</td>\n",
       "      <td>5</td>\n",
       "      <td>DA5 3HP</td>\n",
       "    </tr>\n",
       "    <tr>\n",
       "      <th>8</th>\n",
       "      <td>Aldgate</td>\n",
       "      <td>533629</td>\n",
       "      <td>181246</td>\n",
       "      <td>51.514342</td>\n",
       "      <td>-0.075627</td>\n",
       "      <td>1</td>\n",
       "      <td>EC3N 1AH</td>\n",
       "    </tr>\n",
       "    <tr>\n",
       "      <th>9</th>\n",
       "      <td>Aldgate East</td>\n",
       "      <td>533809</td>\n",
       "      <td>181333</td>\n",
       "      <td>51.515082</td>\n",
       "      <td>-0.073001</td>\n",
       "      <td>1</td>\n",
       "      <td>E1 7PT</td>\n",
       "    </tr>\n",
       "  </tbody>\n",
       "</table>\n",
       "</div>"
      ],
      "text/plain": [
       "             Station    OS X    OS Y   Latitude  Longitude     Zone  Postcode\n",
       "0         Abbey Road  539081  183352  51.531952   0.003723        3   E15 3NB\n",
       "1         Abbey Wood  547297  179002  51.490784   0.120272        4   SE2 9RH\n",
       "2      Acton Central  520613  180299  51.508757  -0.263430        2    W3 6BH\n",
       "3    Acton Main Line  520296  181196  51.516886  -0.267690        3    W3 9EH\n",
       "4         Acton Town  519457  179639  51.503071  -0.280303        3    W3 8HN\n",
       "5  Addington Village  537082  163744  51.356239  -0.032665  3,4,5,6   CR0 5AR\n",
       "6         Addiscombe  534190  166290  51.379808  -0.073213  3,4,5,6   CR0 7AA\n",
       "7        Albany Park  547903  172902  51.435816   0.126445        5   DA5 3HP\n",
       "8            Aldgate  533629  181246  51.514342  -0.075627        1  EC3N 1AH\n",
       "9       Aldgate East  533809  181333  51.515082  -0.073001        1    E1 7PT"
      ]
     },
     "execution_count": 14,
     "metadata": {},
     "output_type": "execute_result"
    }
   ],
   "source": [
    "df_raw = pd.read_csv(r\"../data/raw/stations_raw.csv\")\n",
    "df_raw.head(10)"
   ]
  },
  {
   "cell_type": "code",
   "execution_count": 15,
   "metadata": {},
   "outputs": [],
   "source": [
    "# Drop duplicate stations duplicate station names that contain the line they are on\n",
    "stations_to_drop = {\n",
    "    \"Edgware Road (Bakerloo)\",\n",
    "    \"Hammersmith (Met)\"\n",
    "}\n",
    "\n",
    "mask = ~(df_raw[\"Station\"].isin(stations_to_drop))\n",
    "df_stations = df_raw[mask]\n",
    "\n",
    "# Common station processing\n",
    "df_stations.loc[:, \"Station\"] = df_stations[\"Station\"].apply(clean_station)\n",
    "\n",
    "# This needs to be renamed\n",
    "df_stations.loc[df_stations[\"Station\"] == \"St Jamess Park\", \"Station\"] = \"St James Park\"\n",
    "\n",
    "# Saving the above for review\n",
    "df_stations.to_csv(r\"../data/raw/station_raw_v2.csv\")"
   ]
  },
  {
   "cell_type": "markdown",
   "metadata": {},
   "source": [
    "At this point we now need to remove any stations that aren't present in the Connections dataset"
   ]
  },
  {
   "cell_type": "code",
   "execution_count": 16,
   "metadata": {},
   "outputs": [
    {
     "data": {
      "text/html": [
       "<div>\n",
       "<style scoped>\n",
       "    .dataframe tbody tr th:only-of-type {\n",
       "        vertical-align: middle;\n",
       "    }\n",
       "\n",
       "    .dataframe tbody tr th {\n",
       "        vertical-align: top;\n",
       "    }\n",
       "\n",
       "    .dataframe thead th {\n",
       "        text-align: right;\n",
       "    }\n",
       "</style>\n",
       "<table border=\"1\" class=\"dataframe\">\n",
       "  <thead>\n",
       "    <tr style=\"text-align: right;\">\n",
       "      <th></th>\n",
       "      <th>station_from</th>\n",
       "      <th>station_to</th>\n",
       "      <th>line</th>\n",
       "      <th>direction</th>\n",
       "      <th>distance_kms</th>\n",
       "      <th>un-impeded_running_time</th>\n",
       "      <th>running_time_av</th>\n",
       "    </tr>\n",
       "  </thead>\n",
       "  <tbody>\n",
       "    <tr>\n",
       "      <th>0</th>\n",
       "      <td>Harrow &amp; Wealdstone</td>\n",
       "      <td>Kenton</td>\n",
       "      <td>Bakerloo</td>\n",
       "      <td>Southbound</td>\n",
       "      <td>1.74</td>\n",
       "      <td>2.23</td>\n",
       "      <td>2.50</td>\n",
       "    </tr>\n",
       "    <tr>\n",
       "      <th>1</th>\n",
       "      <td>Kenton</td>\n",
       "      <td>South Kenton</td>\n",
       "      <td>Bakerloo</td>\n",
       "      <td>Southbound</td>\n",
       "      <td>1.40</td>\n",
       "      <td>1.88</td>\n",
       "      <td>2.00</td>\n",
       "    </tr>\n",
       "    <tr>\n",
       "      <th>2</th>\n",
       "      <td>South Kenton</td>\n",
       "      <td>North Wembley</td>\n",
       "      <td>Bakerloo</td>\n",
       "      <td>Southbound</td>\n",
       "      <td>0.90</td>\n",
       "      <td>1.50</td>\n",
       "      <td>1.50</td>\n",
       "    </tr>\n",
       "    <tr>\n",
       "      <th>3</th>\n",
       "      <td>North Wembley</td>\n",
       "      <td>Wembley Central</td>\n",
       "      <td>Bakerloo</td>\n",
       "      <td>Southbound</td>\n",
       "      <td>1.27</td>\n",
       "      <td>1.92</td>\n",
       "      <td>2.06</td>\n",
       "    </tr>\n",
       "    <tr>\n",
       "      <th>4</th>\n",
       "      <td>Wembley Central</td>\n",
       "      <td>Stonebridge Park</td>\n",
       "      <td>Bakerloo</td>\n",
       "      <td>Southbound</td>\n",
       "      <td>1.71</td>\n",
       "      <td>2.23</td>\n",
       "      <td>3.13</td>\n",
       "    </tr>\n",
       "  </tbody>\n",
       "</table>\n",
       "</div>"
      ],
      "text/plain": [
       "          station_from        station_to      line   direction  distance_kms  \\\n",
       "0  Harrow & Wealdstone            Kenton  Bakerloo  Southbound          1.74   \n",
       "1               Kenton      South Kenton  Bakerloo  Southbound          1.40   \n",
       "2         South Kenton     North Wembley  Bakerloo  Southbound          0.90   \n",
       "3        North Wembley   Wembley Central  Bakerloo  Southbound          1.27   \n",
       "4      Wembley Central  Stonebridge Park  Bakerloo  Southbound          1.71   \n",
       "\n",
       "   un-impeded_running_time  running_time_av  \n",
       "0                     2.23             2.50  \n",
       "1                     1.88             2.00  \n",
       "2                     1.50             1.50  \n",
       "3                     1.92             2.06  \n",
       "4                     2.23             3.13  "
      ]
     },
     "execution_count": 16,
     "metadata": {},
     "output_type": "execute_result"
    }
   ],
   "source": [
    "df_connections = pd.read_csv(r\"../data/processed/connections_clean.csv\", index_col=0)\n",
    "df_connections.head()"
   ]
  },
  {
   "cell_type": "code",
   "execution_count": 18,
   "metadata": {},
   "outputs": [
    {
     "name": "stdout",
     "output_type": "stream",
     "text": [
      "set()\n",
      "set()\n"
     ]
    }
   ],
   "source": [
    "# Checking if that all stations are in one column of the Connections dataset (see the associated notebook for its processing)\n",
    "df_station_from_a = set(df_connections[\"station_from\"])\n",
    "df_station_from_b = set(df_connections[\"station_to\"])\n",
    "print(df_station_from_a.difference(df_station_from_b))\n",
    "print(df_station_from_b.difference(df_station_from_a))"
   ]
  },
  {
   "cell_type": "code",
   "execution_count": 19,
   "metadata": {},
   "outputs": [
    {
     "ename": "KeyError",
     "evalue": "'Station from (A)'",
     "output_type": "error",
     "traceback": [
      "\u001b[1;31m---------------------------------------------------------------------------\u001b[0m",
      "\u001b[1;31mKeyError\u001b[0m                                  Traceback (most recent call last)",
      "File \u001b[1;32mc:\\Users\\ryanh\\virtual_envs\\neo4j_london_undergound\\Lib\\site-packages\\pandas\\core\\indexes\\base.py:3805\u001b[0m, in \u001b[0;36mIndex.get_loc\u001b[1;34m(self, key)\u001b[0m\n\u001b[0;32m   3804\u001b[0m \u001b[38;5;28;01mtry\u001b[39;00m:\n\u001b[1;32m-> 3805\u001b[0m     \u001b[38;5;28;01mreturn\u001b[39;00m \u001b[38;5;28;43mself\u001b[39;49m\u001b[38;5;241;43m.\u001b[39;49m\u001b[43m_engine\u001b[49m\u001b[38;5;241;43m.\u001b[39;49m\u001b[43mget_loc\u001b[49m\u001b[43m(\u001b[49m\u001b[43mcasted_key\u001b[49m\u001b[43m)\u001b[49m\n\u001b[0;32m   3806\u001b[0m \u001b[38;5;28;01mexcept\u001b[39;00m \u001b[38;5;167;01mKeyError\u001b[39;00m \u001b[38;5;28;01mas\u001b[39;00m err:\n",
      "File \u001b[1;32mindex.pyx:167\u001b[0m, in \u001b[0;36mpandas._libs.index.IndexEngine.get_loc\u001b[1;34m()\u001b[0m\n",
      "File \u001b[1;32mindex.pyx:196\u001b[0m, in \u001b[0;36mpandas._libs.index.IndexEngine.get_loc\u001b[1;34m()\u001b[0m\n",
      "File \u001b[1;32mpandas\\\\_libs\\\\hashtable_class_helper.pxi:7081\u001b[0m, in \u001b[0;36mpandas._libs.hashtable.PyObjectHashTable.get_item\u001b[1;34m()\u001b[0m\n",
      "File \u001b[1;32mpandas\\\\_libs\\\\hashtable_class_helper.pxi:7089\u001b[0m, in \u001b[0;36mpandas._libs.hashtable.PyObjectHashTable.get_item\u001b[1;34m()\u001b[0m\n",
      "\u001b[1;31mKeyError\u001b[0m: 'Station from (A)'",
      "\nThe above exception was the direct cause of the following exception:\n",
      "\u001b[1;31mKeyError\u001b[0m                                  Traceback (most recent call last)",
      "Cell \u001b[1;32mIn[19], line 2\u001b[0m\n\u001b[0;32m      1\u001b[0m \u001b[38;5;66;03m# Removing stations from the Stations dataset that aren't in the connections dataset\u001b[39;00m\n\u001b[1;32m----> 2\u001b[0m connection_stations \u001b[38;5;241m=\u001b[39m \u001b[38;5;28mset\u001b[39m(\u001b[43mdf_connections\u001b[49m\u001b[43m[\u001b[49m\u001b[38;5;124;43m\"\u001b[39;49m\u001b[38;5;124;43mStation from (A)\u001b[39;49m\u001b[38;5;124;43m\"\u001b[39;49m\u001b[43m]\u001b[49m)\n\u001b[0;32m      3\u001b[0m mask \u001b[38;5;241m=\u001b[39m df_stations[\u001b[38;5;124m'\u001b[39m\u001b[38;5;124mStation\u001b[39m\u001b[38;5;124m'\u001b[39m]\u001b[38;5;241m.\u001b[39misin(connection_stations)\n\u001b[0;32m      4\u001b[0m df_valid_stations \u001b[38;5;241m=\u001b[39m df_stations[mask]\u001b[38;5;241m.\u001b[39mreset_index(drop\u001b[38;5;241m=\u001b[39m\u001b[38;5;28;01mTrue\u001b[39;00m)\n",
      "File \u001b[1;32mc:\\Users\\ryanh\\virtual_envs\\neo4j_london_undergound\\Lib\\site-packages\\pandas\\core\\frame.py:4102\u001b[0m, in \u001b[0;36mDataFrame.__getitem__\u001b[1;34m(self, key)\u001b[0m\n\u001b[0;32m   4100\u001b[0m \u001b[38;5;28;01mif\u001b[39;00m \u001b[38;5;28mself\u001b[39m\u001b[38;5;241m.\u001b[39mcolumns\u001b[38;5;241m.\u001b[39mnlevels \u001b[38;5;241m>\u001b[39m \u001b[38;5;241m1\u001b[39m:\n\u001b[0;32m   4101\u001b[0m     \u001b[38;5;28;01mreturn\u001b[39;00m \u001b[38;5;28mself\u001b[39m\u001b[38;5;241m.\u001b[39m_getitem_multilevel(key)\n\u001b[1;32m-> 4102\u001b[0m indexer \u001b[38;5;241m=\u001b[39m \u001b[38;5;28;43mself\u001b[39;49m\u001b[38;5;241;43m.\u001b[39;49m\u001b[43mcolumns\u001b[49m\u001b[38;5;241;43m.\u001b[39;49m\u001b[43mget_loc\u001b[49m\u001b[43m(\u001b[49m\u001b[43mkey\u001b[49m\u001b[43m)\u001b[49m\n\u001b[0;32m   4103\u001b[0m \u001b[38;5;28;01mif\u001b[39;00m is_integer(indexer):\n\u001b[0;32m   4104\u001b[0m     indexer \u001b[38;5;241m=\u001b[39m [indexer]\n",
      "File \u001b[1;32mc:\\Users\\ryanh\\virtual_envs\\neo4j_london_undergound\\Lib\\site-packages\\pandas\\core\\indexes\\base.py:3812\u001b[0m, in \u001b[0;36mIndex.get_loc\u001b[1;34m(self, key)\u001b[0m\n\u001b[0;32m   3807\u001b[0m     \u001b[38;5;28;01mif\u001b[39;00m \u001b[38;5;28misinstance\u001b[39m(casted_key, \u001b[38;5;28mslice\u001b[39m) \u001b[38;5;129;01mor\u001b[39;00m (\n\u001b[0;32m   3808\u001b[0m         \u001b[38;5;28misinstance\u001b[39m(casted_key, abc\u001b[38;5;241m.\u001b[39mIterable)\n\u001b[0;32m   3809\u001b[0m         \u001b[38;5;129;01mand\u001b[39;00m \u001b[38;5;28many\u001b[39m(\u001b[38;5;28misinstance\u001b[39m(x, \u001b[38;5;28mslice\u001b[39m) \u001b[38;5;28;01mfor\u001b[39;00m x \u001b[38;5;129;01min\u001b[39;00m casted_key)\n\u001b[0;32m   3810\u001b[0m     ):\n\u001b[0;32m   3811\u001b[0m         \u001b[38;5;28;01mraise\u001b[39;00m InvalidIndexError(key)\n\u001b[1;32m-> 3812\u001b[0m     \u001b[38;5;28;01mraise\u001b[39;00m \u001b[38;5;167;01mKeyError\u001b[39;00m(key) \u001b[38;5;28;01mfrom\u001b[39;00m \u001b[38;5;21;01merr\u001b[39;00m\n\u001b[0;32m   3813\u001b[0m \u001b[38;5;28;01mexcept\u001b[39;00m \u001b[38;5;167;01mTypeError\u001b[39;00m:\n\u001b[0;32m   3814\u001b[0m     \u001b[38;5;66;03m# If we have a listlike key, _check_indexing_error will raise\u001b[39;00m\n\u001b[0;32m   3815\u001b[0m     \u001b[38;5;66;03m#  InvalidIndexError. Otherwise we fall through and re-raise\u001b[39;00m\n\u001b[0;32m   3816\u001b[0m     \u001b[38;5;66;03m#  the TypeError.\u001b[39;00m\n\u001b[0;32m   3817\u001b[0m     \u001b[38;5;28mself\u001b[39m\u001b[38;5;241m.\u001b[39m_check_indexing_error(key)\n",
      "\u001b[1;31mKeyError\u001b[0m: 'Station from (A)'"
     ]
    }
   ],
   "source": [
    "# Removing stations from the Stations dataset that aren't in the connections dataset\n",
    "connection_stations = set(df_connections[\"Station from (A)\"])\n",
    "mask = df_stations['Station'].isin(connection_stations)\n",
    "df_valid_stations = df_stations[mask].reset_index(drop=True)"
   ]
  },
  {
   "cell_type": "code",
   "execution_count": 20,
   "metadata": {},
   "outputs": [
    {
     "data": {
      "text/plain": [
       "set()"
      ]
     },
     "execution_count": 20,
     "metadata": {},
     "output_type": "execute_result"
    }
   ],
   "source": [
    "# Checking which stations are in Connections but not the cleaned\n",
    "connection_stations.difference(df_valid_stations[\"Station\"])"
   ]
  },
  {
   "cell_type": "code",
   "execution_count": 21,
   "metadata": {},
   "outputs": [
    {
     "data": {
      "text/html": [
       "<div>\n",
       "<style scoped>\n",
       "    .dataframe tbody tr th:only-of-type {\n",
       "        vertical-align: middle;\n",
       "    }\n",
       "\n",
       "    .dataframe tbody tr th {\n",
       "        vertical-align: top;\n",
       "    }\n",
       "\n",
       "    .dataframe thead th {\n",
       "        text-align: right;\n",
       "    }\n",
       "</style>\n",
       "<table border=\"1\" class=\"dataframe\">\n",
       "  <thead>\n",
       "    <tr style=\"text-align: right;\">\n",
       "      <th></th>\n",
       "      <th>Station</th>\n",
       "      <th>OS X</th>\n",
       "      <th>OS Y</th>\n",
       "      <th>Latitude</th>\n",
       "      <th>Longitude</th>\n",
       "      <th>Zone</th>\n",
       "      <th>Postcode</th>\n",
       "    </tr>\n",
       "  </thead>\n",
       "  <tbody>\n",
       "    <tr>\n",
       "      <th>0</th>\n",
       "      <td>Acton Town</td>\n",
       "      <td>519457</td>\n",
       "      <td>179639</td>\n",
       "      <td>51.503071</td>\n",
       "      <td>-0.280303</td>\n",
       "      <td>3</td>\n",
       "      <td>W3 8HN</td>\n",
       "    </tr>\n",
       "    <tr>\n",
       "      <th>1</th>\n",
       "      <td>Aldgate</td>\n",
       "      <td>533629</td>\n",
       "      <td>181246</td>\n",
       "      <td>51.514342</td>\n",
       "      <td>-0.075627</td>\n",
       "      <td>1</td>\n",
       "      <td>EC3N 1AH</td>\n",
       "    </tr>\n",
       "    <tr>\n",
       "      <th>2</th>\n",
       "      <td>Aldgate East</td>\n",
       "      <td>533809</td>\n",
       "      <td>181333</td>\n",
       "      <td>51.515082</td>\n",
       "      <td>-0.073001</td>\n",
       "      <td>1</td>\n",
       "      <td>E1 7PT</td>\n",
       "    </tr>\n",
       "    <tr>\n",
       "      <th>3</th>\n",
       "      <td>Alperton</td>\n",
       "      <td>518025</td>\n",
       "      <td>183849</td>\n",
       "      <td>51.541209</td>\n",
       "      <td>-0.299516</td>\n",
       "      <td>4</td>\n",
       "      <td>HA0 4LL</td>\n",
       "    </tr>\n",
       "    <tr>\n",
       "      <th>4</th>\n",
       "      <td>Amersham</td>\n",
       "      <td>496454</td>\n",
       "      <td>198181</td>\n",
       "      <td>51.674128</td>\n",
       "      <td>-0.606514</td>\n",
       "      <td>9</td>\n",
       "      <td>HP6 5AZ</td>\n",
       "    </tr>\n",
       "  </tbody>\n",
       "</table>\n",
       "</div>"
      ],
      "text/plain": [
       "        Station    OS X    OS Y   Latitude  Longitude Zone  Postcode\n",
       "0    Acton Town  519457  179639  51.503071  -0.280303    3    W3 8HN\n",
       "1       Aldgate  533629  181246  51.514342  -0.075627    1  EC3N 1AH\n",
       "2  Aldgate East  533809  181333  51.515082  -0.073001    1    E1 7PT\n",
       "3      Alperton  518025  183849  51.541209  -0.299516    4   HA0 4LL\n",
       "4      Amersham  496454  198181  51.674128  -0.606514    9   HP6 5AZ"
      ]
     },
     "execution_count": 21,
     "metadata": {},
     "output_type": "execute_result"
    }
   ],
   "source": [
    "df_valid_stations.head()"
   ]
  },
  {
   "cell_type": "code",
   "execution_count": 22,
   "metadata": {},
   "outputs": [
    {
     "data": {
      "text/plain": [
       "265"
      ]
     },
     "execution_count": 22,
     "metadata": {},
     "output_type": "execute_result"
    }
   ],
   "source": [
    "len(df_valid_stations)"
   ]
  },
  {
   "cell_type": "code",
   "execution_count": 28,
   "metadata": {},
   "outputs": [
    {
     "data": {
      "text/html": [
       "<div>\n",
       "<style scoped>\n",
       "    .dataframe tbody tr th:only-of-type {\n",
       "        vertical-align: middle;\n",
       "    }\n",
       "\n",
       "    .dataframe tbody tr th {\n",
       "        vertical-align: top;\n",
       "    }\n",
       "\n",
       "    .dataframe thead th {\n",
       "        text-align: right;\n",
       "    }\n",
       "</style>\n",
       "<table border=\"1\" class=\"dataframe\">\n",
       "  <thead>\n",
       "    <tr style=\"text-align: right;\">\n",
       "      <th></th>\n",
       "      <th>Station</th>\n",
       "      <th>line</th>\n",
       "      <th>OS X</th>\n",
       "      <th>OS Y</th>\n",
       "      <th>Latitude</th>\n",
       "      <th>Longitude</th>\n",
       "      <th>Zone</th>\n",
       "      <th>Postcode</th>\n",
       "    </tr>\n",
       "  </thead>\n",
       "  <tbody>\n",
       "    <tr>\n",
       "      <th>0</th>\n",
       "      <td>Acton Town</td>\n",
       "      <td>Piccadilly</td>\n",
       "      <td>519457</td>\n",
       "      <td>179639</td>\n",
       "      <td>51.503071</td>\n",
       "      <td>-0.280303</td>\n",
       "      <td>3</td>\n",
       "      <td>W3 8HN</td>\n",
       "    </tr>\n",
       "    <tr>\n",
       "      <th>1</th>\n",
       "      <td>Acton Town</td>\n",
       "      <td>District</td>\n",
       "      <td>519457</td>\n",
       "      <td>179639</td>\n",
       "      <td>51.503071</td>\n",
       "      <td>-0.280303</td>\n",
       "      <td>3</td>\n",
       "      <td>W3 8HN</td>\n",
       "    </tr>\n",
       "    <tr>\n",
       "      <th>2</th>\n",
       "      <td>Aldgate</td>\n",
       "      <td>Metropolitan</td>\n",
       "      <td>533629</td>\n",
       "      <td>181246</td>\n",
       "      <td>51.514342</td>\n",
       "      <td>-0.075627</td>\n",
       "      <td>1</td>\n",
       "      <td>EC3N 1AH</td>\n",
       "    </tr>\n",
       "    <tr>\n",
       "      <th>3</th>\n",
       "      <td>Aldgate</td>\n",
       "      <td>Circle</td>\n",
       "      <td>533629</td>\n",
       "      <td>181246</td>\n",
       "      <td>51.514342</td>\n",
       "      <td>-0.075627</td>\n",
       "      <td>1</td>\n",
       "      <td>EC3N 1AH</td>\n",
       "    </tr>\n",
       "    <tr>\n",
       "      <th>4</th>\n",
       "      <td>Aldgate East</td>\n",
       "      <td>Hammersmith &amp; City</td>\n",
       "      <td>533809</td>\n",
       "      <td>181333</td>\n",
       "      <td>51.515082</td>\n",
       "      <td>-0.073001</td>\n",
       "      <td>1</td>\n",
       "      <td>E1 7PT</td>\n",
       "    </tr>\n",
       "  </tbody>\n",
       "</table>\n",
       "</div>"
      ],
      "text/plain": [
       "        Station                line    OS X    OS Y   Latitude  Longitude  \\\n",
       "0    Acton Town          Piccadilly  519457  179639  51.503071  -0.280303   \n",
       "1    Acton Town            District  519457  179639  51.503071  -0.280303   \n",
       "2       Aldgate        Metropolitan  533629  181246  51.514342  -0.075627   \n",
       "3       Aldgate              Circle  533629  181246  51.514342  -0.075627   \n",
       "4  Aldgate East  Hammersmith & City  533809  181333  51.515082  -0.073001   \n",
       "\n",
       "  Zone  Postcode  \n",
       "0    3    W3 8HN  \n",
       "1    3    W3 8HN  \n",
       "2    1  EC3N 1AH  \n",
       "3    1  EC3N 1AH  \n",
       "4    1    E1 7PT  "
      ]
     },
     "execution_count": 28,
     "metadata": {},
     "output_type": "execute_result"
    }
   ],
   "source": [
    "# We now need to add the line that each station is on. There should be duplicate station names where that station is on multiple lines.\n",
    "# We will need to join to the connections dataset to get this information.\n",
    "df_stations_with_lines = pd.merge(\n",
    "    left=df_valid_stations,\n",
    "    right=df_connections,\n",
    "    left_on=\"Station\",\n",
    "    right_on=\"station_from\",\n",
    "    how=\"inner\"\n",
    ")\n",
    "df_stations_with_lines = df_stations_with_lines[[\"Station\", \"line\", \"OS X\", \"OS Y\", \"Latitude\", \"Longitude\", \"Zone\", \"Postcode\"]].drop_duplicates().reset_index(drop=True)\n",
    "df_stations_with_lines.head()"
   ]
  },
  {
   "cell_type": "code",
   "execution_count": 29,
   "metadata": {},
   "outputs": [
    {
     "data": {
      "text/plain": [
       "369"
      ]
     },
     "execution_count": 29,
     "metadata": {},
     "output_type": "execute_result"
    }
   ],
   "source": [
    "len(df_stations_with_lines)"
   ]
  },
  {
   "cell_type": "code",
   "execution_count": 30,
   "metadata": {},
   "outputs": [],
   "source": [
    "# Renaming columns and saving\n",
    "df_stations_with_lines.columns = [\"name\", \"line\", \"os_x\", \"os_y\", \"latitude\", \"longitude\", \"zone\", \"postcode\"]\n",
    "df_stations_with_lines.to_csv(r\"../data/processed/stations_clean.csv\")"
   ]
  }
 ],
 "metadata": {
  "kernelspec": {
   "display_name": "neo4j_LU_env",
   "language": "python",
   "name": "python3"
  },
  "language_info": {
   "codemirror_mode": {
    "name": "ipython",
    "version": 3
   },
   "file_extension": ".py",
   "mimetype": "text/x-python",
   "name": "python",
   "nbconvert_exporter": "python",
   "pygments_lexer": "ipython3",
   "version": "3.12.4"
  }
 },
 "nbformat": 4,
 "nbformat_minor": 2
}
